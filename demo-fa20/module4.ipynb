{
 "cells": [
  {
   "cell_type": "code",
   "execution_count": null,
   "metadata": {},
   "outputs": [],
   "source": [
    "import numpy as np\n",
    "from datascience import *\n",
    "from math import *\n",
    "\n",
    "import matplotlib\n",
    "matplotlib.use('Agg', warn=False)\n",
    "%matplotlib inline\n",
    "import matplotlib.pyplot as plots\n",
    "plots.style.use('fivethirtyeight')"
   ]
  },
  {
   "cell_type": "markdown",
   "metadata": {},
   "source": [
    "## Practice: Table Manipulations"
   ]
  },
  {
   "cell_type": "code",
   "execution_count": null,
   "metadata": {},
   "outputs": [],
   "source": [
    "calenviroscreen = Table().read_table(\"calenviroscreen.csv\")\n",
    "calenviroscreen.show(5)\n",
    "## Coding Tips (for approaching data analysis questions):\n",
    "# Ask yourself:\n",
    "# 1) What info do I currently have?\n",
    "# 2) What info do I want to find out?\n",
    "# 3a) What steps do I need to take, in order, that will give me the info in 2?\n",
    "# 3b) How does each step convert the data type? (i.e. table to table? table to array? array to int?)\n",
    "\n",
    "## If you're ever unsure, break down your code by saving each step in a different variable\n",
    "## and then check each variable to see how your output changes"
   ]
  },
  {
   "cell_type": "code",
   "execution_count": null,
   "metadata": {},
   "outputs": [],
   "source": [
    "## Challenge Question 1 : Find the tract with the lowest level of poverty in Alameda County \n",
    "# and return the census tract ID as a float.\n",
    "# Note: you will need to use the string \"Alameda \" (with a space at the end) - \"Alameda\" will give you an error.\n",
    "..."
   ]
  },
  {
   "cell_type": "code",
   "execution_count": null,
   "metadata": {},
   "outputs": [],
   "source": [
    "# Question 2: Find the relationship between poverty and the CES Pollution Score for all tracts in SF and Alameda Counties\n",
    "# Hint: What graph lets us do this? \n",
    "# Additional challenge: add colors to each point based on county, using the optional argument: group = \"column\"\n",
    "counties = make_array(\"Alameda \", \"San Francisco\")\n"
   ]
  },
  {
   "cell_type": "markdown",
   "metadata": {},
   "source": [
    "## Importing Data & Cleaning"
   ]
  },
  {
   "cell_type": "code",
   "execution_count": null,
   "metadata": {},
   "outputs": [],
   "source": [
    "# Practice importing a dataset: unclean_data.csv\n",
    "t = Table.read_table(\"unclean_data.csv\")\n",
    "\n",
    "# Why are NaNs a problem?\n",
    "..."
   ]
  },
  {
   "cell_type": "code",
   "execution_count": null,
   "metadata": {},
   "outputs": [],
   "source": [
    "# Removing null values with pandas: feel free to copy paste this into your project!\n",
    "import pandas as pd\n",
    "\n",
    "def remove_null_from_table(tbl):\n",
    "    df = tbl.to_df() # Convert to a dataframe\n",
    "    df = df.dropna() # Remove null values\n",
    "    return Table.from_df(df) # Convert back to a table\n",
    "\n",
    "clean_t = ...\n",
    "clean_t"
   ]
  },
  {
   "cell_type": "code",
   "execution_count": null,
   "metadata": {},
   "outputs": [],
   "source": [
    "# Exporting datasets after cleaning - more pandas!\n",
    "\n",
    "def export_dataset(tbl, name):\n",
    "    \"\"\"Given a table, export it into the directory as a csv. Names must be strings followed by .csv\"\"\"\n",
    "    df = tbl.to_df() # Convert to dataframe\n",
    "    return df.to_csv(name)\n"
   ]
  },
  {
   "cell_type": "markdown",
   "metadata": {},
   "source": [
    "## Writing & Applying Functions"
   ]
  },
  {
   "cell_type": "code",
   "execution_count": null,
   "metadata": {},
   "outputs": [],
   "source": [
    "# An extended example of cleaning: let's convert the points column to integers\n",
    "# First, let's write some practice functions.\n",
    "# I want to convert values in Fahrenheit to Kelvin.\n",
    "# Conversion: (t - 32) * (5/9) + 273.15\n",
    "..."
   ]
  },
  {
   "cell_type": "code",
   "execution_count": null,
   "metadata": {},
   "outputs": [],
   "source": [
    "# Make it a bit more versatile...\n",
    "\n",
    "your_temp = ...\n",
    "in_kelvin = ...\n",
    "in_kelvin"
   ]
  },
  {
   "cell_type": "code",
   "execution_count": null,
   "metadata": {},
   "outputs": [],
   "source": [
    "# Now that's good, but not as clean as we want. Let's use a function!\n",
    "def fah_to_kel(your_temp):\n",
    "    \"\"\" What does the function do? \"\"\"\n",
    "    ...\n",
    "    \n",
    "\n",
    "fah_to_kel(...)"
   ]
  },
  {
   "cell_type": "markdown",
   "metadata": {},
   "source": [
    "Think of this like a mathematical function: `f(x) = x ** 2`\n",
    "\n",
    "`f(5) = 5 ** 2`\n",
    "\n",
    "`f(5) = 25`\n",
    "\n",
    "In Python, the code inside of the function is NOT evaluated until the function is called. Once the function is called, it will set the variables in the code equal to the arguments and perform the evaluation using the rules we are used to. Then, it will return the specified return value, and terminate - the values evaluated within the function, in simple terms, \"disappear\" until we call the function again.\n",
    "\n",
    "If you are interested in understanding this more, check out the idea of environments and environment diagrams in the CS61A textbook here: http://composingprograms.com/pages/13-defining-new-functions.html\n"
   ]
  },
  {
   "cell_type": "code",
   "execution_count": null,
   "metadata": {},
   "outputs": [],
   "source": [
    "## Some points:\n",
    "# functions are values in Python\n",
    "# the code \"within\" the function is local to that function, meaning that we cannot reference\n",
    "# those variables outside of the function definition\n",
    "# functions are forms of abstraction! see below\n",
    "\n",
    "from operator import mul\n",
    "\n",
    "def square(x):\n",
    "    return x * x\n",
    "\n",
    "def another_square(x):\n",
    "    return x ** 2\n",
    "\n",
    "def a_third_square(x):\n",
    "    return mul(x, x)"
   ]
  },
  {
   "cell_type": "code",
   "execution_count": null,
   "metadata": {},
   "outputs": [],
   "source": [
    "# Now that we have a handle on writing some functions, let's go back to cleaning. \n",
    "# A test case:\n",
    "example_points = \"5 points\" # How do we remove parts of a string? \n",
    "\n",
    "\"5 points\".strip(\" points\")\n"
   ]
  },
  {
   "cell_type": "code",
   "execution_count": null,
   "metadata": {},
   "outputs": [],
   "source": [
    "def point_cleaner(points_string):\n",
    "    \"\"\"Given a string in the format \"# points\", return the point value as an integer.\"\"\"\n",
    "    ...\n",
    "\n"
   ]
  },
  {
   "cell_type": "code",
   "execution_count": null,
   "metadata": {},
   "outputs": [],
   "source": [
    "# Lastly, we need to use this function on every value in the original table so we can work with it!\n",
    "# Create a new table called new_clean_t that has integers for points, using the clean_t table\n",
    "clean_t\n",
    "\n",
    "new_clean_t = ..."
   ]
  },
  {
   "cell_type": "markdown",
   "metadata": {},
   "source": [
    "## Manipulating Tables: group, join, pivot"
   ]
  },
  {
   "cell_type": "code",
   "execution_count": null,
   "metadata": {},
   "outputs": [],
   "source": [
    "## Let's get some COVID-19 data from JHU. \n",
    "covid_by_county = Table().read_table(\"covid_by_county.csv\")\n",
    "covid_by_county.show(5)\n",
    "\n",
    "pop_by_county = Table().read_table(\"pop_by_state.csv\")\n",
    "pop_by_county.show(5)"
   ]
  },
  {
   "cell_type": "code",
   "execution_count": null,
   "metadata": {},
   "outputs": [],
   "source": [
    "# How many counties are in each state?\n",
    "..."
   ]
  },
  {
   "cell_type": "code",
   "execution_count": null,
   "metadata": {},
   "outputs": [],
   "source": [
    "# How many cases were there in each state in each month?\n",
    "# Why do we get empty columns?\n",
    "covid_by_state = ...\n",
    "covid_by_state"
   ]
  },
  {
   "cell_type": "code",
   "execution_count": null,
   "metadata": {},
   "outputs": [],
   "source": [
    "# Let's combine the datasets, covid_by_state and covid_by_population, to calculate per capita data\n"
   ]
  },
  {
   "cell_type": "code",
   "execution_count": null,
   "metadata": {},
   "outputs": [],
   "source": [
    "# New example: presidential votes from 1976 to 2016\n",
    "president = Table().read_table(\"1976-2016-president.csv\")\n",
    "president.show(5)"
   ]
  },
  {
   "cell_type": "code",
   "execution_count": null,
   "metadata": {},
   "outputs": [],
   "source": [
    "# Let's see how votes for political parties have changed over time\n",
    "# Use pivot to compare candidate votes for specific parties over time!\n"
   ]
  },
  {
   "cell_type": "code",
   "execution_count": null,
   "metadata": {},
   "outputs": [],
   "source": []
  }
 ],
 "metadata": {
  "kernelspec": {
   "display_name": "Python 3",
   "language": "python",
   "name": "python3"
  },
  "language_info": {
   "codemirror_mode": {
    "name": "ipython",
    "version": 3
   },
   "file_extension": ".py",
   "mimetype": "text/x-python",
   "name": "python",
   "nbconvert_exporter": "python",
   "pygments_lexer": "ipython3",
   "version": "3.8.5"
  }
 },
 "nbformat": 4,
 "nbformat_minor": 4
}
