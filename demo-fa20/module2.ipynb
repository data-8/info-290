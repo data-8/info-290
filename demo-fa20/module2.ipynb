{
 "cells": [
  {
   "cell_type": "code",
   "execution_count": null,
   "metadata": {},
   "outputs": [],
   "source": [
    "## Getting things set up\n",
    "from datascience import *\n",
    "import math"
   ]
  },
  {
   "cell_type": "code",
   "execution_count": null,
   "metadata": {},
   "outputs": [],
   "source": [
    "## Importing modules/libraries: operator\n"
   ]
  },
  {
   "cell_type": "markdown",
   "metadata": {},
   "source": [
    "## Arithmetic"
   ]
  },
  {
   "cell_type": "code",
   "execution_count": null,
   "metadata": {},
   "outputs": [],
   "source": [
    "## An expression is something that has a value. The value of this \"2\" expression is the integer 2\n",
    "2"
   ]
  },
  {
   "cell_type": "code",
   "execution_count": null,
   "metadata": {},
   "outputs": [],
   "source": [
    "2 + 3 # Usually you build expressions out of other expressions, like a sentence is built from phrases.\n",
    "      # So this says, take the value 2 and add it to the value 3.  In this one, 2 and 3 are called\n",
    "      # subexpressions, since they're expressions on their own that are being used in the larger\n",
    "      # expression \"2 + 3\".\n",
    "    \n",
    "## Question: what are some other ways to get the same value?\n",
    "    "
   ]
  },
  {
   "cell_type": "markdown",
   "metadata": {},
   "source": [
    "Being a language, Python has rules for how you can put things like these numbers together.\n",
    "It differs from natural language in two important ways:\n",
    "1. The rules are *simple*.  You can gain reasonable proficiency with the language in a semester.\n",
    "2. The rules are *rigid*.  If you're proficient in a natural language, you can understand a non-proficient speaker, glossing over small mistakes.\n",
    "\n",
    "Even most proficient speakers don’t speak in fully-formed grammatical sentences all the time. A computer running Python code is not smart enough to gloss over mistakes. When you make errors, Python will complain loudly with long error messages. But, just like if someone said, “what did you say?”, don’t panic, just figure out the confusion, edit your code, and run it again.\n"
   ]
  },
  {
   "cell_type": "code",
   "execution_count": null,
   "metadata": {},
   "outputs": [],
   "source": [
    "## Assignment statements & order of operations\n",
    "one_calculation = ...\n",
    "one_calculation\n",
    "\n",
    "## We evaluate the right side, and then assign to the variable name on the left"
   ]
  },
  {
   "cell_type": "code",
   "execution_count": null,
   "metadata": {},
   "outputs": [],
   "source": [
    "## Do variables auto-update?\n",
    "x = 4\n",
    "y = x + 1\n",
    "y\n",
    "# x = 3\n",
    "# y"
   ]
  },
  {
   "cell_type": "code",
   "execution_count": null,
   "metadata": {},
   "outputs": [],
   "source": [
    "# Question: What would Python do? Guess the output\n",
    "x = 3 * 10 ** 2\n",
    "x = 10 * 3 ** 2\n",
    "x + 10\n",
    "x"
   ]
  },
  {
   "cell_type": "markdown",
   "metadata": {},
   "source": [
    "## Data Types"
   ]
  },
  {
   "cell_type": "code",
   "execution_count": null,
   "metadata": {},
   "outputs": [],
   "source": [
    "## We can check any value's data type with the type(...) function\n",
    "type(2)"
   ]
  },
  {
   "cell_type": "code",
   "execution_count": null,
   "metadata": {},
   "outputs": [],
   "source": [
    "## Python has 2 types of numbers: ints and floats\n",
    "2\n",
    "2.0"
   ]
  },
  {
   "cell_type": "code",
   "execution_count": null,
   "metadata": {},
   "outputs": [],
   "source": [
    "# Scientific notation + combining ints and floats\n",
    "5 / 70000000 "
   ]
  },
  {
   "cell_type": "code",
   "execution_count": null,
   "metadata": {},
   "outputs": [],
   "source": [
    "## Limitations of floats?\n",
    "a_big_int = 100000000000000000000000000000000000000000000000000000000000000000000000000000000000000000000000000000000000000000000000000000000000000000000000000000000000000000000000000000000000000000000000000000000000000000000000000000000000000000000000000000000000000000000000000000000000000000000000000000000000000000000000000000000000000000000000000000\n",
    "a_big_int"
   ]
  },
  {
   "cell_type": "code",
   "execution_count": null,
   "metadata": {},
   "outputs": [],
   "source": [
    "float(a_big_int)"
   ]
  },
  {
   "cell_type": "code",
   "execution_count": null,
   "metadata": {},
   "outputs": [],
   "source": [
    "## Strings: \"text\" data\n",
    "\"Welcome to Data 8X!\""
   ]
  },
  {
   "cell_type": "code",
   "execution_count": null,
   "metadata": {},
   "outputs": [],
   "source": [
    "## Combining strings\n",
    "\"Welcome to \" + \"Data 8X\" + \"!\""
   ]
  },
  {
   "cell_type": "code",
   "execution_count": null,
   "metadata": {},
   "outputs": [],
   "source": [
    "## Converting between data types\n",
    "\n"
   ]
  },
  {
   "cell_type": "code",
   "execution_count": null,
   "metadata": {},
   "outputs": [],
   "source": [
    "# Question: How do I find the square of 11 using only the string \"8\" and functions/operators?\n",
    "eight_str = \"8\"\n"
   ]
  },
  {
   "cell_type": "markdown",
   "metadata": {},
   "source": [
    "## Function & Method Calls (working with data)"
   ]
  },
  {
   "cell_type": "code",
   "execution_count": null,
   "metadata": {},
   "outputs": [],
   "source": [
    "## General format: func(<parameters>) or operator(<operands>)\n",
    "## We evaluate the value of the function/operator first, then the parameters/operands second,\n",
    "## and then apply the function/operator to the evaluated operands\n",
    "max(1, 2, 3, 68)"
   ]
  },
  {
   "cell_type": "code",
   "execution_count": null,
   "metadata": {},
   "outputs": [],
   "source": [
    "round(5.4 + 0.2)"
   ]
  },
  {
   "cell_type": "code",
   "execution_count": null,
   "metadata": {},
   "outputs": [],
   "source": [
    "max(2, 2+3, 4)"
   ]
  },
  {
   "cell_type": "code",
   "execution_count": null,
   "metadata": {},
   "outputs": [],
   "source": [
    "## Nested calls: what will this output? Don't run the cell yet!\n",
    "a_complicated_call = max(round(2.8), min(pow(2, 10), -1 * pow(2, 10)))\n",
    "a_complicated_call"
   ]
  },
  {
   "cell_type": "code",
   "execution_count": null,
   "metadata": {},
   "outputs": [],
   "source": [
    "## Methods are functions that work on \"objects\", such as arrays, tables\n",
    "food_access = Table().read_table(\"food_access_2010_2015.csv\")\n",
    "food_access ## This is a table of food access data in various counties in the US"
   ]
  },
  {
   "cell_type": "code",
   "execution_count": null,
   "metadata": {},
   "outputs": [],
   "source": [
    "## What if I want to find the county that has the highest percentage of people without cars?\n",
    "# You don't need to know how to really do this (yet)\n",
    "# Notice how methods are \"strung\" together\n",
    "food_access"
   ]
  },
  {
   "cell_type": "code",
   "execution_count": null,
   "metadata": {},
   "outputs": [],
   "source": [
    "# Outputs of functions\n",
    "print(32)\n",
    "\n"
   ]
  },
  {
   "cell_type": "code",
   "execution_count": null,
   "metadata": {},
   "outputs": [],
   "source": [
    "## Question: what will the output if I run this cell?\n",
    "something_tricky = print(32)\n",
    "something_tricky + 14"
   ]
  },
  {
   "cell_type": "markdown",
   "metadata": {},
   "source": [
    "## Arrays"
   ]
  },
  {
   "cell_type": "code",
   "execution_count": null,
   "metadata": {},
   "outputs": [],
   "source": [
    "## Arrays are a datatype that represents a collection of values\n",
    "import numpy as np\n",
    "\n",
    "## making an array of values\n",
    "arr1 = make_array(...)\n",
    "arr1"
   ]
  },
  {
   "cell_type": "code",
   "execution_count": null,
   "metadata": {},
   "outputs": [],
   "source": [
    "## making an array of consecutive values: np.arange()\n",
    "arr2 = np.arange(...)\n",
    "arr2"
   ]
  },
  {
   "cell_type": "code",
   "execution_count": null,
   "metadata": {},
   "outputs": [],
   "source": [
    "## Array arithmetic: applying an operator to every value in an array\n"
   ]
  },
  {
   "cell_type": "code",
   "execution_count": null,
   "metadata": {},
   "outputs": [],
   "source": [
    "## Array arithmetic: combining 2 arrays\n"
   ]
  },
  {
   "cell_type": "code",
   "execution_count": null,
   "metadata": {},
   "outputs": [],
   "source": [
    "## Some array functions/methods\n",
    "np.average(...)\n",
    "len(...)\n",
    "sum(...)"
   ]
  },
  {
   "cell_type": "code",
   "execution_count": null,
   "metadata": {},
   "outputs": [],
   "source": [
    "# Pulling a value out of an array (indexing)\n",
    "# Question: what should the argument of .item(???) be to get the first value? the last value?\n",
    "arr2.item(...)"
   ]
  },
  {
   "cell_type": "code",
   "execution_count": null,
   "metadata": {},
   "outputs": [],
   "source": [
    "# Pulling an array of data out of a table\n",
    "food_access.column(...)"
   ]
  },
  {
   "cell_type": "code",
   "execution_count": null,
   "metadata": {},
   "outputs": [],
   "source": [
    "## Challenge question! The Leibniz formula:\n",
    "# pi ~ 4 * (1 - 1/3 + 1/5 - 1/7 + 1/9 - ... + ...)\n",
    "# Use arrays to do this calculuation!\n",
    "\n",
    "denominator = ...\n",
    "signs = ...\n",
    "pi = ...\n",
    "pi"
   ]
  }
 ],
 "metadata": {
  "kernelspec": {
   "display_name": "Python 3",
   "language": "python",
   "name": "python3"
  },
  "language_info": {
   "codemirror_mode": {
    "name": "ipython",
    "version": 3
   },
   "file_extension": ".py",
   "mimetype": "text/x-python",
   "name": "python",
   "nbconvert_exporter": "python",
   "pygments_lexer": "ipython3",
   "version": "3.8.5"
  }
 },
 "nbformat": 4,
 "nbformat_minor": 4
}
