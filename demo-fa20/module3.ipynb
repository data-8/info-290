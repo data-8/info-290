{
 "cells": [
  {
   "cell_type": "code",
   "execution_count": null,
   "metadata": {},
   "outputs": [],
   "source": [
    "import numpy as np\n",
    "from datascience import *\n",
    "from math import *\n",
    "\n",
    "## New import statements:\n",
    "import matplotlib\n",
    "matplotlib.use('Agg', warn=False)\n",
    "%matplotlib inline\n",
    "import matplotlib.pyplot as plots\n",
    "plots.style.use('fivethirtyeight')"
   ]
  },
  {
   "cell_type": "markdown",
   "metadata": {},
   "source": [
    "## Coding Practice/Warmup"
   ]
  },
  {
   "cell_type": "code",
   "execution_count": null,
   "metadata": {},
   "outputs": [],
   "source": [
    "# What would Python do? Guess, run the cell, and then try to explain why in the markdown cell below.\n",
    "print(print(5), print(15)) "
   ]
  },
  {
   "cell_type": "markdown",
   "metadata": {},
   "source": [
    "*Write your answer here, replacing this text.*"
   ]
  },
  {
   "cell_type": "code",
   "execution_count": null,
   "metadata": {},
   "outputs": [],
   "source": [
    "# Every 60 seconds. We are trying to record a measurement every 60 seconds for 1 year (365 days)\n",
    "# Using np.arange, create an array that has the time, in seconds, when a measurement is taken \n",
    "# starting at 0 and ending at 31536000 seconds.\n"
   ]
  },
  {
   "cell_type": "code",
   "execution_count": null,
   "metadata": {},
   "outputs": [],
   "source": [
    "# The Leibniz equation for pi allows us to approximate pi with more terms\n",
    "# pi ~ 4 * (1 - (1/3) + (1/5) - (1/7) + (1/9) + ...)\n",
    "\n",
    "signs = \n",
    "denominator = \n",
    "\n",
    "pi = \n",
    "pi"
   ]
  },
  {
   "cell_type": "markdown",
   "metadata": {},
   "source": [
    "# The Bechdel Test"
   ]
  },
  {
   "cell_type": "markdown",
   "metadata": {},
   "source": [
    "## Some cursory analysis & data cleaning\n"
   ]
  },
  {
   "cell_type": "code",
   "execution_count": null,
   "metadata": {},
   "outputs": [],
   "source": [
    "## Load the table and learn more about it: read_table, num_rows, num_columns, labels\n",
    "bechdel = \n",
    "bechdel"
   ]
  },
  {
   "cell_type": "code",
   "execution_count": null,
   "metadata": {},
   "outputs": [],
   "source": [
    "## Clean up the table. We only want the columns \"year\", \"title\", \"clean_test\", \"binary\"\n",
    "clean_bechdel = \n",
    "clean_bechdel"
   ]
  },
  {
   "cell_type": "code",
   "execution_count": null,
   "metadata": {},
   "outputs": [],
   "source": [
    "# Relabel the \"clean_test\" column to \"test\" and \"binary\" to \"result\"\n",
    "clean_bechdel"
   ]
  },
  {
   "cell_type": "code",
   "execution_count": null,
   "metadata": {},
   "outputs": [],
   "source": [
    "## Let's focus on a single year. How many movies passed or failed the test? What was the breakdown of the test?\n",
    "clean_bechdel"
   ]
  },
  {
   "cell_type": "code",
   "execution_count": null,
   "metadata": {},
   "outputs": [],
   "source": [
    "## This code will clean up the table so we can do some comparisons. You don't need to know this! \n",
    "# it's a complicated application of iteration using tables. \n",
    "results_by_year = clean_bechdel.pivot(\"result\", \"year\")\n",
    "pass_prop = make_array()\n",
    "fail_prop = make_array()\n",
    "\n",
    "for i in np.arange(results_by_year.num_rows):\n",
    "    total_for_year = (results_by_year.row(i)[1] + results_by_year.row(i)[2])\n",
    "    pass_prop = np.append(pass_prop, results_by_year.row(i)[1] / total_for_year)\n",
    "    fail_prop = np.append(fail_prop, results_by_year.row(i)[2] / total_for_year)\n",
    "    \n",
    "results_by_year_prop = Table().with_columns(\"Year\", results_by_year.column(\"year\"),\n",
    "                                           \"Pass Prop\", pass_prop,\n",
    "                                           \"Fail Prop\", fail_prop)\n",
    "results_by_year_prop"
   ]
  },
  {
   "cell_type": "code",
   "execution_count": null,
   "metadata": {},
   "outputs": [],
   "source": [
    "## There's a bit too many years. Let's create a bar chart of the years between 2000 and 2010. \n",
    "filtered = results_by_year_prop...\n",
    "sorted_tbl = \n",
    "sorted_tbl"
   ]
  },
  {
   "cell_type": "markdown",
   "metadata": {},
   "source": [
    "## Discussion Questions"
   ]
  },
  {
   "cell_type": "code",
   "execution_count": null,
   "metadata": {},
   "outputs": [],
   "source": [
    "## How do I find the rows for the movies that passed the Bechdel test, using the bechdel table?\n"
   ]
  },
  {
   "cell_type": "code",
   "execution_count": null,
   "metadata": {},
   "outputs": [],
   "source": [
    "## How do I find the 2 movies with the highest budgets in terms of 2013 dollars?  \n",
    "\n"
   ]
  },
  {
   "cell_type": "code",
   "execution_count": null,
   "metadata": {},
   "outputs": [],
   "source": [
    "## How do I find an array of the 2 most common results for the \"test\" column?\n"
   ]
  },
  {
   "cell_type": "markdown",
   "metadata": {},
   "source": [
    "## Visualizations"
   ]
  },
  {
   "cell_type": "code",
   "execution_count": null,
   "metadata": {},
   "outputs": [],
   "source": [
    "## Is there a correlation between the budget of a movie and its domestic gross? \n",
    "bechdel.scatter(\"budget\", \"domgross\")"
   ]
  },
  {
   "cell_type": "code",
   "execution_count": null,
   "metadata": {},
   "outputs": [],
   "source": [
    "## What's the trend of movies failing/passing the Bechdel test over time?\n",
    "# Is Hollywood becoming more sexist?\n",
    "results_by_year_prop.plot(\"Year\", \"Pass Prop\")"
   ]
  },
  {
   "cell_type": "markdown",
   "metadata": {},
   "source": [
    "## Histograms"
   ]
  },
  {
   "cell_type": "code",
   "execution_count": null,
   "metadata": {},
   "outputs": [],
   "source": [
    "# Make a histogram of the Bechdel data: budget and domgross\n"
   ]
  },
  {
   "cell_type": "code",
   "execution_count": null,
   "metadata": {},
   "outputs": [],
   "source": [
    "# Practice changing the bins\n"
   ]
  },
  {
   "cell_type": "code",
   "execution_count": null,
   "metadata": {},
   "outputs": [],
   "source": [
    "# Overlaying data w/ lists or tuples\n"
   ]
  }
 ],
 "metadata": {
  "kernelspec": {
   "display_name": "Python 3",
   "language": "python",
   "name": "python3"
  },
  "language_info": {
   "codemirror_mode": {
    "name": "ipython",
    "version": 3
   },
   "file_extension": ".py",
   "mimetype": "text/x-python",
   "name": "python",
   "nbconvert_exporter": "python",
   "pygments_lexer": "ipython3",
   "version": "3.8.5"
  }
 },
 "nbformat": 4,
 "nbformat_minor": 4
}
