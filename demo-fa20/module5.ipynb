{
 "cells": [
  {
   "cell_type": "code",
   "execution_count": null,
   "metadata": {},
   "outputs": [],
   "source": [
    "import numpy as np\n",
    "from datascience import *\n",
    "from math import *\n",
    "\n",
    "import matplotlib\n",
    "matplotlib.use('Agg', warn=False)\n",
    "%matplotlib inline\n",
    "import matplotlib.pyplot as plots ## This line is important this week!\n",
    "plots.style.use('fivethirtyeight')"
   ]
  },
  {
   "cell_type": "markdown",
   "metadata": {},
   "source": [
    "## Coding Review: Functions, Table Manipulations"
   ]
  },
  {
   "cell_type": "code",
   "execution_count": null,
   "metadata": {},
   "outputs": [],
   "source": [
    "## Grimm's Law: as language evolved, the following consonant shifts occurred:\n",
    "# t -> th, p -> f, d -> t, qo -> who\n",
    "# Write a function that shifts these consonants in a string. Hint: use string.replace(\"...\", \"...\")\n",
    "\n",
    "def consonant_shift(text):\n",
    "    ...\n",
    "    return ...\n",
    "\n",
    "consonant_shift(\"pater\")"
   ]
  },
  {
   "cell_type": "code",
   "execution_count": null,
   "metadata": {},
   "outputs": [],
   "source": [
    "# words is a table that contains many Proto Indo-European roots\n",
    "# Using your function and table methods, add on a third column that uses Grimm's law on each word in words\n",
    "# after you do so, explore the table!\n",
    "words = Table.read_table(\"words.csv\")\n",
    "words.show(5)\n",
    "\n",
    "with_shift = ...\n",
    "with_shift"
   ]
  },
  {
   "cell_type": "code",
   "execution_count": null,
   "metadata": {},
   "outputs": [],
   "source": [
    "# US Crime Reporting Statistics: the crime table\n",
    "# we cleaned it up a little bit\n",
    "crime = Table.read_table(\"us_crime.csv\").where(\"State\", are.not_equal_to(\"United States-Total\"))\n",
    "crime.show(5)"
   ]
  },
  {
   "cell_type": "code",
   "execution_count": null,
   "metadata": {},
   "outputs": [],
   "source": [
    "# Using various table methods, create a new table called per_capita\n",
    "# that contains the same columns as crime, but\n",
    "# with a new column for violent crime per capita rates for the United States as a whole\n",
    "# hint: you can call .group with a function to apply the function to the groups in all columns\n",
    "\n",
    "per_year = \n",
    "per_capita = \n",
    "per_capita.show(5)"
   ]
  },
  {
   "cell_type": "markdown",
   "metadata": {},
   "source": [
    "# matplotlib.pyplot: Changing graph details\n",
    "\n",
    "Documentation here: https://matplotlib.org/3.3.1/api/_as_gen/matplotlib.pyplot.html\n",
    "\n",
    "datascience documentation here as well: http://data8.org/datascience/"
   ]
  },
  {
   "cell_type": "code",
   "execution_count": null,
   "metadata": {},
   "outputs": [],
   "source": [
    "# Using your crime_per_capita data...\n",
    "per_capita.plot(\"Year\", \"Violent crime per capita\")"
   ]
  },
  {
   "cell_type": "code",
   "execution_count": null,
   "metadata": {},
   "outputs": [],
   "source": [
    "# Comparing property crime to violent crime in the US\n",
    "per_capita.plot(\"Year\", [\"Property crime total sum\", \"Violent crime total sum\"])\n",
    "# Let's add a few extra details\n",
    "plots.ylabel(\"Number of Crimes\")\n",
    "plots.legend([\"Property Crime\", \"Violent Crime\"], loc = 7) # loc changes location of legend, see for code\n",
    "plots.xticks(np.arange(1960, 2020, 5), rotation = 90) # Change ticks"
   ]
  },
  {
   "cell_type": "markdown",
   "metadata": {},
   "source": [
    "## Conditions and Iteration"
   ]
  },
  {
   "cell_type": "code",
   "execution_count": null,
   "metadata": {},
   "outputs": [],
   "source": [
    "# What is a boolean?\n",
    "\n"
   ]
  },
  {
   "cell_type": "code",
   "execution_count": null,
   "metadata": {},
   "outputs": [],
   "source": [
    "# Summing boolean values\n",
    "\n"
   ]
  },
  {
   "cell_type": "code",
   "execution_count": null,
   "metadata": {},
   "outputs": [],
   "source": [
    "# Comparison operators\n",
    "\n"
   ]
  },
  {
   "cell_type": "code",
   "execution_count": null,
   "metadata": {},
   "outputs": [],
   "source": [
    "# Practice Question: find the number of odd values in an array using the % remainder operator\n",
    "# and booleans\n",
    "numbers = make_array(10, 45, 13, 22, 59, 4, 2, 14, 18)\n",
    "..."
   ]
  },
  {
   "cell_type": "code",
   "execution_count": null,
   "metadata": {},
   "outputs": [],
   "source": [
    "# If/else statements\n",
    "if ...:\n",
    "    ...\n",
    "elif ...:\n",
    "    ...\n",
    "else:\n",
    "    ..."
   ]
  },
  {
   "cell_type": "code",
   "execution_count": null,
   "metadata": {},
   "outputs": [],
   "source": [
    "# Truthy + Falsey values\n",
    "your_value = ...\n",
    "if your_value:\n",
    "    print(your_value, \"is a Truthy value!\")\n",
    "else:\n",
    "    print(your_value, \"is a Falsey value.\")"
   ]
  },
  {
   "cell_type": "code",
   "execution_count": null,
   "metadata": {},
   "outputs": [],
   "source": [
    "# Compound statements\n",
    "... and ...\n",
    "\n",
    "... or ...\n"
   ]
  },
  {
   "cell_type": "code",
   "execution_count": null,
   "metadata": {},
   "outputs": [],
   "source": [
    "# Iteration\n",
    "for ... in ...:\n",
    "    ..."
   ]
  },
  {
   "cell_type": "code",
   "execution_count": null,
   "metadata": {},
   "outputs": [],
   "source": [
    "cheers = make_array(\"Oski\", \"says\", \"Go\", \"Bears\")\n",
    "\n",
    "for word in cheers:\n",
    "    print(word + \"!\")"
   ]
  },
  {
   "cell_type": "code",
   "execution_count": null,
   "metadata": {},
   "outputs": [],
   "source": [
    "die_sides = make_array(1, 2, 3, 4, 5, 6)\n",
    "\n",
    "for roll in np.arange(3):\n",
    "    print(np.random.choice(die_sides))"
   ]
  },
  {
   "cell_type": "code",
   "execution_count": null,
   "metadata": {},
   "outputs": [],
   "source": [
    "# Saving your results via a counter: what's the output?\n",
    "\n",
    "stars = make_array(4, 3.5, 4.9, 4.7, 4.4, 4.5)\n",
    "counter = 0\n",
    "for rating in stars:\n",
    "    if rating >= 4.5:\n",
    "        counter = counter + 1\n",
    "\n",
    "counter"
   ]
  },
  {
   "cell_type": "code",
   "execution_count": null,
   "metadata": {},
   "outputs": [],
   "source": [
    "# Some broken code... saving your results via a collection\n",
    "\n",
    "salaries = make_array(25, 50, 100, 25, 100)\n",
    "post_tax = make_array()\n",
    "\n",
    "for i in salaries:\n",
    "    tax = i * 0.2\n",
    "    post_tax = np.append(post_tax, i + tax)\n",
    "post_tax"
   ]
  },
  {
   "cell_type": "code",
   "execution_count": null,
   "metadata": {},
   "outputs": [],
   "source": [
    "## Practice question: Write a function called apply_func\n",
    "# that does the same thing as tbl.apply(func, \"col\") \n",
    "# given an iterable (like a list) or function\n",
    "\n",
    "def apply_func(function, column):\n",
    "    ...\n",
    "    for ... in ...:\n",
    "        ...\n",
    "    return ..."
   ]
  },
  {
   "cell_type": "code",
   "execution_count": null,
   "metadata": {},
   "outputs": [],
   "source": [
    "# Using the Grimm's law table from earlier... \n",
    "words.apply(consonant_shift, 0)"
   ]
  },
  {
   "cell_type": "code",
   "execution_count": null,
   "metadata": {},
   "outputs": [],
   "source": [
    "# Did you get the same output?\n",
    "apply_func(consonant_shift, words.column(0))"
   ]
  }
 ],
 "metadata": {
  "kernelspec": {
   "display_name": "Python 3",
   "language": "python",
   "name": "python3"
  },
  "language_info": {
   "codemirror_mode": {
    "name": "ipython",
    "version": 3
   },
   "file_extension": ".py",
   "mimetype": "text/x-python",
   "name": "python",
   "nbconvert_exporter": "python",
   "pygments_lexer": "ipython3",
   "version": "3.8.5"
  }
 },
 "nbformat": 4,
 "nbformat_minor": 4
}
