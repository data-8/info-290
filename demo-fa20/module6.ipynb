{
 "cells": [
  {
   "cell_type": "code",
   "execution_count": null,
   "metadata": {},
   "outputs": [],
   "source": [
    "import numpy as np\n",
    "from datascience import *\n",
    "from math import *\n",
    "\n",
    "import matplotlib\n",
    "matplotlib.use('Agg', warn=False)\n",
    "%matplotlib inline\n",
    "import matplotlib.pyplot as plots\n",
    "plots.style.use('fivethirtyeight')"
   ]
  },
  {
   "cell_type": "markdown",
   "metadata": {},
   "source": [
    "## Python Practice"
   ]
  },
  {
   "cell_type": "code",
   "execution_count": null,
   "metadata": {},
   "outputs": [],
   "source": [
    "# Practice question: In Rita's fridge, there are 3 pears, 5 guavas, 4 watermelons, and 3 kiwis. 15 fruits\n",
    "# Each fruit is equally likely to be chosen. What is the probability that Rita's smoothie\n",
    "# has two different fruits? Assign the answer to prob_two_diff. \n",
    "prob_two_diff = ...\n",
    "prob_two_diff"
   ]
  },
  {
   "cell_type": "code",
   "execution_count": null,
   "metadata": {},
   "outputs": [],
   "source": [
    "# Let's estimate this using probability.\n",
    "fruit_table = Table().with_column(\"Fruit\", [\"Pear\"] * 3 + [\"Guava\"] * 5 + [\"Watermelon\"] * 4 + [\"Kiwi\"] * 3)\n",
    "fruit_table"
   ]
  },
  {
   "cell_type": "code",
   "execution_count": null,
   "metadata": {},
   "outputs": [],
   "source": [
    "# Question 1: randomly select 2 fruits, at random WITHOUT replacement, and assign the array to two_fruits\n",
    "two_fruits = ...\n",
    "two_fruits"
   ]
  },
  {
   "cell_type": "code",
   "execution_count": null,
   "metadata": {},
   "outputs": [],
   "source": [
    "# Question 2: check if the two fruits are NOT the same using a boolean comparison and assign\n",
    "# to two_fruits_diff\n",
    "two_fruits_diff = ...\n",
    "two_fruits_diff"
   ]
  },
  {
   "cell_type": "code",
   "execution_count": null,
   "metadata": {},
   "outputs": [],
   "source": [
    "# Question 3: Bring it all together - using a for loop, do this calculation 10000 times\n",
    "# Assign the boolean results to the array fruit_results\n",
    "fruit_results = ...\n",
    "num_trials = ...\n",
    "\n",
    "for i in ...:\n",
    "    fruit_sample = ...\n",
    "    fruit_compare = ...\n",
    "    fruit_results = ...\n",
    "    \n",
    "fruit_results"
   ]
  },
  {
   "cell_type": "code",
   "execution_count": null,
   "metadata": {},
   "outputs": [],
   "source": [
    "# Question 4: Using fruit_results, find the probability of getting 2 different fruits \n",
    "# and assign to prob_diff\n",
    "prob_diff = ...\n",
    "prob_diff"
   ]
  },
  {
   "cell_type": "code",
   "execution_count": null,
   "metadata": {},
   "outputs": [],
   "source": [
    "# Another quick application\n",
    "# What's the probability of rolling two dice and getting a sum of 6 or lower?\n",
    "die_sides = np.arange(6) + 1\n",
    "num_trials = ...\n",
    "roll_results = ...\n",
    "\n",
    "for i in ...:\n",
    "    two_rolls = ...\n",
    "    sum_of_rolls = ...\n",
    "    roll_results = ...\n",
    "\n",
    "roll_results"
   ]
  },
  {
   "cell_type": "code",
   "execution_count": null,
   "metadata": {},
   "outputs": [],
   "source": [
    "# Let's graph it! Assign rolls_table to a 1 column table of all possible rolls\n",
    "# Use informative bins\n",
    "bins = np.arange(...)\n",
    "rolls_table = ...\n",
    "rolls_table.hist(...)"
   ]
  },
  {
   "cell_type": "code",
   "execution_count": null,
   "metadata": {},
   "outputs": [],
   "source": [
    "# Finally, let's calculate the probability.\n",
    "# Assign six_or_lower to the probability of getting 6 or less, using the roll_results array\n",
    "six_or_lower ...\n",
    "six_or_lower"
   ]
  }
 ],
 "metadata": {
  "kernelspec": {
   "display_name": "Python 3",
   "language": "python",
   "name": "python3"
  },
  "language_info": {
   "codemirror_mode": {
    "name": "ipython",
    "version": 3
   },
   "file_extension": ".py",
   "mimetype": "text/x-python",
   "name": "python",
   "nbconvert_exporter": "python",
   "pygments_lexer": "ipython3",
   "version": "3.8.5"
  }
 },
 "nbformat": 4,
 "nbformat_minor": 4
}
