{
 "cells": [
  {
   "cell_type": "code",
   "execution_count": null,
   "metadata": {},
   "outputs": [],
   "source": [
    "import numpy as np\n",
    "from datascience import *\n",
    "from math import *\n",
    "\n",
    "import matplotlib\n",
    "matplotlib.use('Agg', warn=False)\n",
    "%matplotlib inline\n",
    "import matplotlib.pyplot as plots\n",
    "plots.style.use('fivethirtyeight')"
   ]
  },
  {
   "cell_type": "markdown",
   "metadata": {},
   "source": [
    "## Random sampling functions: sample_proportions and tbl.sample"
   ]
  },
  {
   "cell_type": "code",
   "execution_count": null,
   "metadata": {},
   "outputs": [],
   "source": [
    "# What is sample proportions? Let's practice with a coin\n",
    "# If I flipped a coin 100 times, what proportion would I expect to be heads?\n",
    "theoretical_probabilities = make_array(0.5, 0.5) # Let's say item 0 is heads, item 1 is tails\n",
    "sampled_probabilities = sample_proportions(...)\n",
    "sampled_probabilities"
   ]
  },
  {
   "cell_type": "code",
   "execution_count": null,
   "metadata": {},
   "outputs": [],
   "source": [
    "# Let's do the same thing with tbl.sample:\n",
    "# Q1: Using the coin table below, use tbl.sample \n",
    "# to flip 1 coin 100 times and find the proportion of heads.\n",
    "\n",
    "coin = Table().with_columns(\"Side\", make_array(\"Heads\", \"Tails\"))\n",
    "..."
   ]
  },
  {
   "cell_type": "markdown",
   "metadata": {},
   "source": [
    "## Presidential Public Opinion in 1994 \n",
    "\n",
    "Newsweek asked 518 American adults, “From everything you know about Bill Clinton, does he have the honesty and integrity you expect in a president?” 0.45 responded \"Yes\". \n",
    "\n",
    "Do only a minority of Americans believe that Bill Clinton has the honesty and integrity we expect in a president?\n",
    "\n",
    "Let's find out!"
   ]
  },
  {
   "cell_type": "markdown",
   "metadata": {},
   "source": [
    "### Our null hypothesis:\n",
    "> There is no winning opinion on this issue; the proportions of Americans who would vote yes or no are both 0.5. Any difference is due to chance.\n",
    "\n",
    "### Our alternative?\n",
    "> Type your answer here!"
   ]
  },
  {
   "cell_type": "code",
   "execution_count": null,
   "metadata": {},
   "outputs": [],
   "source": [
    "# Let's use sample proportions to work through this hypothesis test.\n",
    "# Q2: Practice taking 1 sample **under the null hypothesis** and finding the proportion of \"Yes\" responses\n",
    "null_proportions = ...\n",
    "one_sample_results = ...\n",
    "one_sample_results"
   ]
  },
  {
   "cell_type": "code",
   "execution_count": null,
   "metadata": {},
   "outputs": [],
   "source": [
    "# Now that we know how to do this, let's go do it enough times under the Law of Large Numbers.\n",
    "# Q3: Complete the code to sample under the null 10000 times.\n",
    "\n",
    "sampled_props = ...\n",
    "repetitions = ...\n",
    "\n",
    "for ...:\n",
    "    sim_sample = ..\n",
    "    yes_prop = ...\n",
    "    ...\n",
    "\n",
    "sampled_props"
   ]
  },
  {
   "cell_type": "code",
   "execution_count": null,
   "metadata": {},
   "outputs": [],
   "source": [
    "# Q4: Use sampled_props to create a histogram of the distribution.\n",
    "# Use matplotlib.pyplot.axvline(x) to graph the observed statistic.\n",
    "\n"
   ]
  },
  {
   "cell_type": "code",
   "execution_count": null,
   "metadata": {},
   "outputs": [],
   "source": [
    "# Q5: What is the p-value?\n",
    "# Recall: p-value is the probability of getting a result as or more extreme\n",
    "# than the observed statistic, under the null hypothesis\n",
    "# In this case, what direction is \"more extreme\"? How do we code that?\n",
    "p_value = ...\n",
    "p_value"
   ]
  },
  {
   "cell_type": "markdown",
   "metadata": {},
   "source": [
    "## What is Total Variation Distance?\n",
    "\n",
    "Rita is trying to play Dungeons & Dragons, and buys a D20 (a 20-sided dice) at a magic shop. But, for some reason, she keeps rolling *a lot* of 20s -- moreso than any other side on the dice. In one game, 18% of her rolls are 20s. Ian thinks she's cheating. Did Rita accidentally buy a loaded die? \n",
    "\n",
    "The following table, rolls, shows her outcome of rolls.\n",
    "\n",
    "H0: Rita's die is fair. The probability of getting any side is ???, and any deviation from that is due to chance.\n",
    "\n",
    "Ha: The die is not fair, and the probability of getting a particular side is not ???. There is some factor at play other than random chance that explains this outcome. "
   ]
  },
  {
   "cell_type": "code",
   "execution_count": null,
   "metadata": {},
   "outputs": [],
   "source": [
    "# This table shows the rolls\n",
    "observed_rolls = Table().with_columns(\"Side\", np.arange(20) + 1, \n",
    "                             \"Proportions\", make_array(0.03, 0.07, 0.1, 0.01, 0.04, 0.02, 0.08, 0.03, 0.06, 0.07, 0.03, 0.01, 0.03, 0.07, 0.02, 0.03, 0.01, 0.05, 0.06, 0.18))\n",
    "observed_rolls"
   ]
  },
  {
   "cell_type": "code",
   "execution_count": null,
   "metadata": {},
   "outputs": [],
   "source": [
    "# What is the expected distribution of rolls? Let's use a list to make this.\n",
    "expected_rolls = ...\n",
    "expected_rolls"
   ]
  },
  {
   "cell_type": "code",
   "execution_count": null,
   "metadata": {},
   "outputs": [],
   "source": [
    "# So what is TVD? \n",
    "# Definition: ...\n",
    "\n",
    "def tvd(samp_props, expected_props):\n",
    "    ...\n",
    "    "
   ]
  },
  {
   "cell_type": "code",
   "execution_count": null,
   "metadata": {},
   "outputs": [],
   "source": [
    "## Now let's do this as a hypothesis test.\n",
    "sim_tvd = ...\n",
    "trials = ...\n",
    "\n",
    "for i in ...:\n",
    "    ...\n",
    "    "
   ]
  },
  {
   "cell_type": "code",
   "execution_count": null,
   "metadata": {},
   "outputs": [],
   "source": [
    "## Finally, the results! Let's see the distribution.\n"
   ]
  }
 ],
 "metadata": {
  "kernelspec": {
   "display_name": "Python 3",
   "language": "python",
   "name": "python3"
  },
  "language_info": {
   "codemirror_mode": {
    "name": "ipython",
    "version": 3
   },
   "file_extension": ".py",
   "mimetype": "text/x-python",
   "name": "python",
   "nbconvert_exporter": "python",
   "pygments_lexer": "ipython3",
   "version": "3.8.6"
  }
 },
 "nbformat": 4,
 "nbformat_minor": 4
}
