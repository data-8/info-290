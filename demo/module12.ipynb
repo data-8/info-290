{
 "cells": [
  {
   "cell_type": "code",
   "execution_count": null,
   "metadata": {},
   "outputs": [],
   "source": [
    "from datascience import *\n",
    "from math import *\n",
    "\n",
    "import matplotlib\n",
    "matplotlib.use('Agg', warn=False)\n",
    "%matplotlib inline\n",
    "import matplotlib.pyplot as plots\n",
    "plots.style.use('fivethirtyeight')"
   ]
  },
  {
   "cell_type": "markdown",
   "metadata": {},
   "source": [
    "## Coding Review\n",
    "\n",
    "Today, we are going to look at a dataset that has various information, such as the number of tech workers, the percentage of insured individuals, access to broadband, median rent, and more, about urban counties in the United States. Load the data in the cell below."
   ]
  },
  {
   "cell_type": "code",
   "execution_count": null,
   "metadata": {},
   "outputs": [],
   "source": [
    "urban = Table().read_table(\"urban_2017_clean.csv\")\n",
    "urban.show(5)"
   ]
  },
  {
   "cell_type": "code",
   "execution_count": null,
   "metadata": {},
   "outputs": [],
   "source": [
    "## Q1: First, let's practice importing our libraries for analysis.\n",
    "# Let's use NumPy and the stats module from SciPy. Import both with the names you prefer below. \n"
   ]
  },
  {
   "cell_type": "code",
   "execution_count": null,
   "metadata": {},
   "outputs": [],
   "source": [
    "## Q2: Write a function that takes in a column label in urban and returns the following summary statistics as a list:\n",
    "# Mean, median, standard deviation, interquartile range\n",
    "# We also want to use the optional arguments: center, and spread\n",
    "# if summary_stats is called with center = True, print the mean instead of the median \n",
    "# and if spread = True, print the standard deviation instead of the IQR\n",
    "\n",
    "def summary_stats(label, center = True, spread = True):\n",
    "    if ...\n",
    "    else:\n",
    "    ...\n",
    "    print(\"The center of \" + label  + \" is \" + str(print_center) + \" and the spread is \" + str(print_spread))\n",
    "    return ...\n",
    "\n",
    "summary_stats(\"Median rent\")"
   ]
  },
  {
   "cell_type": "code",
   "execution_count": null,
   "metadata": {},
   "outputs": [],
   "source": [
    "## Q3: I want to see how the number of tech workers is correlated with every other quantitative variable in the dataset\n",
    "# Complete the following code so we get a 2 column table, with 1 column being each quant var. in the dataset\n",
    "# and the other column being the corresponding r value for that variable and # of tech workers\n",
    "# hint: use the pearsonr(x_arr, y_arr) function in SciPy in conjunction with other code we've learned! \n",
    "\n",
    "quant_vars = list(urban.drop(\"Urban area\", \"Has rapid transit\", \"Tech workers\").labels)\n",
    "cleaned_urban = urban.where(\"Tech workers\", are.above(10000)) \n",
    "# Note: for purposes of this exercise, we are just going to look at urban areas that have more than\n",
    "# 10,000 tech workers to help make the analysis easier + the viz clearer\n",
    "\n",
    "def find_r(variable):\n",
    "    \"\"\"Takes in a variable name as a string and return the correlation coefficient\n",
    "    for that variable and the number of tech workers\"\"\"\n",
    "    ...\n",
    "    \n",
    "vars_by_r = ... # our final result table"
   ]
  },
  {
   "cell_type": "code",
   "execution_count": null,
   "metadata": {},
   "outputs": [],
   "source": [
    "## Q4: What variable seems the most strongly correlated to number of tech workers?\n",
    "# Check it manually or use code to figure it out below. \n",
    "\n",
    "..."
   ]
  },
  {
   "cell_type": "code",
   "execution_count": null,
   "metadata": {},
   "outputs": [],
   "source": [
    "## Q5: Before we actually begin creating a linear model, we need to check something VERY important:\n",
    "# what needs to be true before we begin a regression analysis? \n",
    "\n",
    "cleaned_urban.scatter(\"Tech workers\", ..., fit_line = True)\n",
    "cleaned_urban.scatter(\"Tech workers\", ..., fit_line = True)"
   ]
  },
  {
   "cell_type": "code",
   "execution_count": null,
   "metadata": {},
   "outputs": [],
   "source": [
    "## Q for thought: why would we see this pattern? what is an issue moving forward with this analysis? \n",
    "# should we move forward with a regression analysis?"
   ]
  },
  {
   "cell_type": "markdown",
   "metadata": {},
   "source": [
    "## Linear Regression in Python\n",
    "\n",
    "So, based on all of the work we did above, it looks like that the amount of tech workers is most closely correlated with the proportion of people who use motor vehicles OR walk as their main mode of transportation, as well as the median rent (in urban areas in particular). \n",
    "\n",
    "I think that the relationship between tech and rent is the most interesting, given that we live in the Bay Area, so let's go investigate that! \n",
    "\n",
    "Let's use what we've learned to build a linear regression model!"
   ]
  },
  {
   "cell_type": "code",
   "execution_count": null,
   "metadata": {},
   "outputs": [],
   "source": [
    "## Again, here is our dataset:\n",
    "cleaned_urban.show(5)\n",
    "\n",
    "## and our r-value\n",
    "r = stats.pearsonr(cleaned_urban.column(\"Tech workers\"), cleaned_urban.column(\"Median rent\"))[0]\n",
    "r"
   ]
  },
  {
   "cell_type": "markdown",
   "metadata": {},
   "source": [
    "The proofs to calculate slope and intercept are out of the scope of this course, but we can assume the following:\n",
    "\n",
    "For the prediction line in standard units: y = mx + b\n",
    "\n",
    "m = slope = r\n",
    "\n",
    "b = 0\n",
    "\n",
    "For the prediction line in original units:\n",
    "\n",
    "m = slope = r * (SDy / SDx)\n",
    "\n",
    "b = Yavg - m * Xavg"
   ]
  },
  {
   "cell_type": "code",
   "execution_count": null,
   "metadata": {},
   "outputs": [],
   "source": [
    "# Q1: Calculate slope in original units \n",
    "def slope(tbl, x_label, y_label):\n",
    "    ...\n",
    "\n",
    "formula_slope = slope(cleaned_urban, \"Tech workers\", \"Median rent\")\n",
    "formula_slope"
   ]
  },
  {
   "cell_type": "code",
   "execution_count": null,
   "metadata": {},
   "outputs": [],
   "source": [
    "# Q2: Calculate intercept in original units\n",
    "# Don't forget about the DRY rule!\n",
    "\n",
    "def intercept(tbl, x_label, y_label):\n",
    "    ...\n",
    "\n",
    "formula_int = intercept(cleaned_urban, \"Tech workers\", \"Median rent\")\n",
    "formula_int"
   ]
  },
  {
   "cell_type": "code",
   "execution_count": null,
   "metadata": {},
   "outputs": [],
   "source": [
    "# Our formula line: \n",
    "print(\"Our line:\" + str([formula_slope, formula_int]))\n",
    "\n",
    "# If we wanted to predict the rent in an area with 100,644 tech workers (like SF), our line would report\n",
    "# the following number as the median rent\n",
    "\n",
    "formula_slope * 100644 + formula_int"
   ]
  },
  {
   "cell_type": "code",
   "execution_count": null,
   "metadata": {},
   "outputs": [],
   "source": [
    "## The algorithmic optimization approach:\n",
    "# We can measure the \"accuracy\" of our line using a statistic: the mean-squared error\n",
    "# Error = observed - predicted\n",
    "\n",
    "def mse(slope, intercept):\n",
    "    \"\"\"Given a slope and intercept, report the mean squared error using the cleaned_urban table\"\"\"\n",
    "    ...\n",
    "\n",
    "## This function lets us compare the \"accuracy\" of various lines:\n",
    "# MSE of some random line\n",
    "mse(formula_slope, formula_int)"
   ]
  },
  {
   "cell_type": "code",
   "execution_count": null,
   "metadata": {},
   "outputs": [],
   "source": [
    "# We can now use the minimize(func) function, which is a \"higher order\" function (function that inputs/outputs a function)\n",
    "# which will use an algorithm to find the arguments for func that produce the lowest output\n",
    "# in other words, we are brute-forcing the line that creates the MSE!\n",
    "minimize(mse)\n"
   ]
  },
  {
   "cell_type": "markdown",
   "metadata": {},
   "source": [
    "## Bringing it all together...\n",
    "\n",
    "Remember that R is, by mathematics, related to the slope of the line, and the slope of the line explains the relationship between 2 variables X and Y (i.e. it is the rate of change between the two variables).\n",
    "\n",
    "Therefore, we can perform a bootstrap on the slope (and, by extension, R), treating the slope like any other statistic we've used before, to figure out if there truly is a relationship between # of tech workers and median rent. If the slope is 0, there is no relationship, but if the slope is not 0, we can assume there is some relationship.\n",
    "\n",
    "Let's use the full urban table now for this analysis."
   ]
  },
  {
   "cell_type": "code",
   "execution_count": null,
   "metadata": {},
   "outputs": [],
   "source": [
    "# Q1: What is the null and alternative hypotheses?\n",
    "\n"
   ]
  },
  {
   "cell_type": "code",
   "execution_count": null,
   "metadata": {},
   "outputs": [],
   "source": [
    "# Q2: Do 1000 bootstraps of the urban table, calculating the slope for each bootstrap.\n",
    "# Save the slopes in the slopes array.\n",
    "slopes = make_array()\n",
    "repetitions = 1000\n",
    "\n",
    "for i in np.arange(repetitions):\n",
    "    ..."
   ]
  },
  {
   "cell_type": "code",
   "execution_count": null,
   "metadata": {},
   "outputs": [],
   "source": [
    "# Run this cell!\n",
    "Table().with_column(\"Bootstrapped slopes\", bootstrapped_slopes).hist(0, bins = np.arange(-0.001, 0.008, 0.0005))"
   ]
  },
  {
   "cell_type": "code",
   "execution_count": null,
   "metadata": {},
   "outputs": [],
   "source": [
    "## Calculate a 95% confidence interval using the slopes array.\n",
    "# Set reject_null to True if we REJECT the null or False if we fail to reject the null.\n",
    "\n",
    "reject_null = None\n",
    "lower_bound = ...\n",
    "upper_bound = ...\n",
    "\n",
    "[lower_bound, upper_bound]"
   ]
  },
  {
   "cell_type": "code",
   "execution_count": null,
   "metadata": {},
   "outputs": [],
   "source": [
    "## What does this mean in context?"
   ]
  }
 ],
 "metadata": {
  "kernelspec": {
   "display_name": "Python 3",
   "language": "python",
   "name": "python3"
  },
  "language_info": {
   "codemirror_mode": {
    "name": "ipython",
    "version": 3
   },
   "file_extension": ".py",
   "mimetype": "text/x-python",
   "name": "python",
   "nbconvert_exporter": "python",
   "pygments_lexer": "ipython3",
   "version": "3.8.6"
  }
 },
 "nbformat": 4,
 "nbformat_minor": 4
}
