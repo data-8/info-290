{
 "cells": [
  {
   "cell_type": "code",
   "execution_count": null,
   "metadata": {},
   "outputs": [],
   "source": [
    "import numpy as np\n",
    "from datascience import *\n",
    "from math import *\n",
    "\n",
    "import matplotlib\n",
    "matplotlib.use('Agg', warn=False)\n",
    "%matplotlib inline\n",
    "import matplotlib.pyplot as plots\n",
    "plots.style.use('fivethirtyeight')"
   ]
  },
  {
   "cell_type": "markdown",
   "metadata": {},
   "source": [
    "## Coding Practice"
   ]
  },
  {
   "cell_type": "code",
   "execution_count": null,
   "metadata": {},
   "outputs": [],
   "source": [
    "# Q1: Complete the following function, remove. \n",
    "# Hint: we can iterate through a number by converting it to a string and using a for loop!\n",
    "# Make sure you return the value as an integer, though. \n",
    "\n",
    "def remove(n, digit):\n",
    "    \"\"\"Return all digits of N that are not DIGIT, for DIGIT less than 10.\"\"\"\n",
    "    kept = ...\n",
    "    n_iter = ...\n",
    "    for ...\n",
    "        ...\n",
    "    return ..."
   ]
  },
  {
   "cell_type": "code",
   "execution_count": null,
   "metadata": {},
   "outputs": [],
   "source": [
    "remove(231, 3) # should return 21"
   ]
  },
  {
   "cell_type": "code",
   "execution_count": null,
   "metadata": {},
   "outputs": [],
   "source": [
    "remove(240132, 2) # should return 4013"
   ]
  },
  {
   "cell_type": "markdown",
   "metadata": {},
   "source": [
    "## Bootstrapping: Proposition 16\n",
    "\n",
    "For the 2020 election, Californians are being asked to vote on Proposition 16, which would “allow diversity as a factor in public employment, education, and contracting decisions.” In order for a proposition to pass in California, it must receive 50% of the vote plus one: a simple majority. From October 16 to 23, a poll (n=6,686) from the UC Berkeley Institute for Governmental Studies found that 38% of voters were likely to vote Yes, 49% No, and 13% Undecided. \n",
    "\n",
    "What is the margin of error for a \"Yes\" vote?"
   ]
  },
  {
   "cell_type": "code",
   "execution_count": null,
   "metadata": {},
   "outputs": [],
   "source": [
    "igs_poll = Table().read_table(\"igs_poll.csv\")\n",
    "igs_poll.show(5)"
   ]
  },
  {
   "cell_type": "code",
   "execution_count": null,
   "metadata": {},
   "outputs": [],
   "source": [
    "# Double checking the data\n",
    "grouped_poll = igs_poll.group(0)\n",
    "grouped_poll.with_column(\"prop\", grouped_poll.column(\"count\") / igs_poll.num_rows)"
   ]
  },
  {
   "cell_type": "code",
   "execution_count": null,
   "metadata": {},
   "outputs": [],
   "source": [
    "## Question 1: Let's practice taking a resample with replacement.\n",
    "one_resample = \n",
    "one_resample"
   ]
  },
  {
   "cell_type": "code",
   "execution_count": null,
   "metadata": {},
   "outputs": [],
   "source": [
    "# Did we get some variation in the proportions?\n",
    "..."
   ]
  },
  {
   "cell_type": "code",
   "execution_count": null,
   "metadata": {},
   "outputs": [],
   "source": [
    "## Question 2: Resampling with replacement... many times (let's try 1000!)\n",
    "\n",
    "yes_props = ...\n",
    "repetitions = ...\n",
    "\n",
    "for ...:\n",
    "    ...\n",
    "\n",
    "..."
   ]
  },
  {
   "cell_type": "code",
   "execution_count": null,
   "metadata": {},
   "outputs": [],
   "source": [
    "## Question 3: Make a histogram of the resampled statistics\n",
    "..."
   ]
  },
  {
   "cell_type": "code",
   "execution_count": null,
   "metadata": {},
   "outputs": [],
   "source": [
    "## Question 4: Calculate a 95% confidence interval.\n",
    "# Hint: use the percentile function! It takes in 2 arguments,\n",
    "# the percent and the array of values\n",
    "\n",
    "lower_bound = ...\n",
    "upper_bound = ...\n",
    "\n",
    "[lower_bound, upper_bound]"
   ]
  },
  {
   "cell_type": "code",
   "execution_count": null,
   "metadata": {},
   "outputs": [],
   "source": [
    "## What do we conclude? \n",
    "\n"
   ]
  },
  {
   "cell_type": "markdown",
   "metadata": {},
   "source": [
    "## Hypothesis testing with confidence intervals\n",
    "\n",
    "Remember the exam data from CS61A, Fall 2017? We have a hunch that MT2 was significantly more difficult than MT1. If it was more difficult, this would influence any further analysis we do with the data -- if the means were significantly different, we should not do a simple comparison between exam 1 and exam 2, since our analysis will reflect the difficulty of the exams moreso than an individual's improvement.\n",
    "\n",
    "So: let's figure out if there was a significant difference! We can use hypothesis testing with a confidence interval to figure that out. "
   ]
  },
  {
   "cell_type": "code",
   "execution_count": null,
   "metadata": {},
   "outputs": [],
   "source": [
    "# Imagine we have a sample of 60 students, or 2 lab sections. \n",
    "exams = Table().read_table(\"scores.csv\").sample(60)\n",
    "exams.show(5)"
   ]
  },
  {
   "cell_type": "code",
   "execution_count": null,
   "metadata": {},
   "outputs": [],
   "source": [
    "# Let's compare the distributions.\n",
    "exams.hist([\"MT1 %\", \"MT2 %\"])"
   ]
  },
  {
   "cell_type": "markdown",
   "metadata": {},
   "source": [
    "In this cell, answer the following:\n",
    "\n",
    "What is our test statistic?\n",
    "\n",
    "\n",
    "What is our null hypothesis?\n",
    "\n",
    "\n",
    "What is our alternative hypothesis?\n",
    "\n"
   ]
  },
  {
   "cell_type": "code",
   "execution_count": null,
   "metadata": {},
   "outputs": [],
   "source": [
    "# So, was there a difference between the two exams? \n",
    "# Q1: Calculate the observed statistic from the dataset.\n",
    "obs_diff = ...\n",
    "obs_diff\n"
   ]
  },
  {
   "cell_type": "code",
   "execution_count": null,
   "metadata": {},
   "outputs": [],
   "source": [
    "# Q2: Let's go bootstrap! Let's do 1000 repetitions\n",
    "\n",
    "resampled_diffs = ...\n",
    "repetitions = ...\n",
    "\n",
    "for ...:\n",
    "    ...\n"
   ]
  },
  {
   "cell_type": "code",
   "execution_count": null,
   "metadata": {},
   "outputs": [],
   "source": [
    "# Q3: Calculate a 90% interval for this data. \n",
    "# Bonus: what is our p-value cutoff/level of significance?\n",
    "\n",
    "lower = ...\n",
    "upper = ...\n",
    "\n",
    "[lower, upper]"
   ]
  },
  {
   "cell_type": "code",
   "execution_count": null,
   "metadata": {},
   "outputs": [],
   "source": [
    "# Q4: Finally, graph the distribution.\n",
    "# use plots (matplotlib.pyplot) to show the bounds of the interval.\n",
    "..."
   ]
  },
  {
   "cell_type": "code",
   "execution_count": null,
   "metadata": {},
   "outputs": [],
   "source": [
    "# Q5: What is our conclusion?\n",
    "# What does this mean for our data and our analysis?\n",
    "...\n",
    "\n"
   ]
  },
  {
   "cell_type": "code",
   "execution_count": null,
   "metadata": {},
   "outputs": [],
   "source": []
  }
 ],
 "metadata": {
  "kernelspec": {
   "display_name": "Python 3",
   "language": "python",
   "name": "python3"
  },
  "language_info": {
   "codemirror_mode": {
    "name": "ipython",
    "version": 3
   },
   "file_extension": ".py",
   "mimetype": "text/x-python",
   "name": "python",
   "nbconvert_exporter": "python",
   "pygments_lexer": "ipython3",
   "version": "3.8.6"
  }
 },
 "nbformat": 4,
 "nbformat_minor": 4
}
